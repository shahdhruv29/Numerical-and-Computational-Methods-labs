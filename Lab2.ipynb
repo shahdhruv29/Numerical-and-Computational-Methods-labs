{
  "cells": [
    {
      "cell_type": "markdown",
      "id": "02f30203",
      "metadata": {
        "id": "02f30203"
      },
      "source": [
        "# Lab 2 - Newton-Raphson Rootfinding Method\n",
        "## January 30 - February 4, 2023\n",
        "## Student 1 Name: Dhruv Shah Student 1 ID No. 202103017\n",
        "## Student 2 Name: Pranav Patel Student 2 ID No. 202103040\n",
        "## Student 3 Name: Vatsal Shah Student 3 ID No. 202103022\n",
        "## Date of Submission: $\\underline{01/02/23}$\n",
        "***"
      ]
    },
    {
      "cell_type": "code",
      "execution_count": null,
      "id": "80cd8e82",
      "metadata": {
        "id": "80cd8e82"
      },
      "outputs": [],
      "source": [
        "# import useful libraries\n",
        "import numpy as np\n",
        "import matplotlib.pyplot as plt\n",
        "import math"
      ]
    },
    {
      "cell_type": "markdown",
      "id": "90c5afe0",
      "metadata": {
        "id": "90c5afe0"
      },
      "source": [
        "### Q.1 Write a function `mynewtonraphson` that takes in two function names/handles `f` and `df`, and an initial point `x0` and outputs the estimate of the root `r` of the function `f` "
      ]
    },
    {
      "cell_type": "code",
      "execution_count": null,
      "id": "98ccaa02",
      "metadata": {
        "id": "98ccaa02"
      },
      "outputs": [],
      "source": [
        "# Write the Function mynewtonraphson below:\n",
        "# def mynewtonraphson(f,df,x0):\n",
        "# Run this function everytime we try for a new equation.\n",
        "\n",
        "itr = []\n",
        "ratioArray1 = []\n",
        "ratioArray2 = []\n",
        "x_n = []\n",
        "\n",
        "def mynewtonraphson(f,df,x0, root):\n",
        "    global itr\n",
        "    global ratioArray1\n",
        "    global ratioArray2\n",
        "    global x_n\n",
        "    # x0 is the initial guess\n",
        "    # f is the function\n",
        "    # df is the derivative of the function\n",
        "    # x is the solution\n",
        "    # x = x0\n",
        "    iter = 0\n",
        "    itr = np.append(itr, iter)\n",
        "    x = x0\n",
        "    x_n = np.append(x_n, x)\n",
        "    error = 1 \n",
        "    while (abs(error) > 1e-10):\n",
        "        iter = iter + 1\n",
        "        itr = np.append(itr, iter)\n",
        "        # x = x - f(x)/df(x)\n",
        "        x1 = x - f(x)/df(x)\n",
        "        x_n = np.append(x_n, x1)\n",
        "        error = x1 - x\n",
        "        print(\"Error: \", error,\"x: \",  x, \"x1: \", x1)\n",
        "        \n",
        "        if(x1 == root):\n",
        "          print(x,' ',root, ' ', x1)\n",
        "          return x1\n",
        "\n",
        "        ratio1 = abs(x1 - root)/abs(x - root)\n",
        "        ratio2 = abs(x1- root)/((x-root)**2)\n",
        "        # print(ratio1,' ',ratio2)\n",
        "        x = x1\n",
        "\n",
        "        ratioArray1 = np.append(ratioArray1, ratio1)\n",
        "        ratioArray2 = np.append(ratioArray2, ratio2)\n",
        "    print(\"Number of iterations: \", iter)\n",
        "    return x"
      ]
    },
    {
      "cell_type": "markdown",
      "id": "86444a8c",
      "metadata": {
        "id": "86444a8c"
      },
      "source": [
        "***\n",
        "### Q.2 For a few examples of different functions, plot $\\frac{|x_{n+1} - r|}{|x_{n} - r|}$ and $\\frac{|x_{n+1} - r|}{|x_{n} - r|^2}$ against $n$. "
      ]
    },
    {
      "cell_type": "code",
      "source": [
        "def f(x): # f(x) = x^2 - 2x + 1\n",
        "    return x**3 -x \n",
        "def df(x): # f'(x) = 2x -2 \n",
        "    return 3*x**2 -1\n",
        "y = mynewtonraphson(f, df, x0=2, root=1)\n",
        "\n",
        "fig, ax = plt.subplots(1,2, figsize=(20,5))\n",
        "\n",
        "ax[0].plot(itr[1:len(itr)-1], ratioArray1, color='r')\n",
        "ax[0].set_xlabel('No. of Iterations')\n",
        "\n",
        "\n",
        "ax[1].plot(itr[1:len(itr)-1], ratioArray2, color='b')\n",
        "ax[1].set_xlabel('No. of Iterations') \n",
        "\n",
        "plt.show()"
      ],
      "metadata": {
        "colab": {
          "base_uri": "https://localhost:8080/",
          "height": 473
        },
        "id": "9s0JNHcz7UNZ",
        "outputId": "89977369-9e0f-49b9-95c9-1049fe6e3556"
      },
      "id": "9s0JNHcz7UNZ",
      "execution_count": null,
      "outputs": [
        {
          "output_type": "stream",
          "name": "stdout",
          "text": [
            "Error:  -0.5454545454545454 x:  2 x1:  1.4545454545454546\n",
            "Error:  -0.3034986651679079 x:  1.4545454545454546 x1:  1.1510467893775467\n",
            "Error:  -0.12572086040084884 x:  1.1510467893775467 x1:  1.0253259289766978\n",
            "Error:  -0.024417477033646495 x:  1.0253259289766978 x1:  1.0009084519430513\n",
            "Error:  -0.0009072166341059784 x:  1.0009084519430513 x1:  1.0000012353089454\n",
            "Error:  -1.2353066562997839e-06 x:  1.0000012353089454 x1:  1.000000000002289\n",
            "Error:  -2.2890578321721478e-12 x:  1.000000000002289 x1:  1.0\n",
            "1.000000000002289   1   1.0\n"
          ]
        },
        {
          "output_type": "display_data",
          "data": {
            "text/plain": [
              "<Figure size 1440x360 with 2 Axes>"
            ],
            "image/png": "[encoded data removed]"
          },
          "metadata": {
            "needs_background": "light"
          }
        }
      ]
    },
    {
      "cell_type": "code",
      "source": [
        "def f1(x): # f(x) = x^2 - 5\n",
        "  return x**2 - 25\n",
        "\n",
        "def df1(x):\n",
        "  return 2*x\n",
        "\n",
        "y= mynewtonraphson(f1, df1, x0=1, root=5.0)\n",
        "\n",
        "fig, ax = plt.subplots(1,2, figsize=(20,5))\n",
        "\n",
        "ax[0].plot(itr[1:len(itr)-1], ratioArray1, color='r')\n",
        "ax[0].set_xlabel('No. of Iterations')\n",
        "\n",
        "# ax[0].legend()\n",
        "\n",
        "ax[1].plot(itr[1:len(itr)-1], ratioArray2, color='b')\n",
        "ax[1].set_xlabel('No. of Iterations') \n",
        "#ax[1].legend()\n",
        "\n",
        "plt.show()"
      ],
      "metadata": {
        "colab": {
          "base_uri": "https://localhost:8080/",
          "height": 473
        },
        "id": "ZwdtFC4i7iO0",
        "outputId": "393d1e79-2d86-4dcc-eac1-ee84bf322d55"
      },
      "id": "ZwdtFC4i7iO0",
      "execution_count": null,
      "outputs": [
        {
          "output_type": "stream",
          "name": "stdout",
          "text": [
            "Error:  12.0 x:  1 x1:  13.0\n",
            "Error:  -5.538461538461538 x:  13.0 x1:  7.461538461538462\n",
            "Error:  -2.0555114988104677 x:  7.461538461538462 x1:  5.406026962727994\n",
            "Error:  -0.39077936078309605 x:  5.406026962727994 x1:  5.015247601944898\n",
            "Error:  -0.015224423690948896 x:  5.015247601944898 x1:  5.000023178253949\n",
            "Error:  -2.3178200225792978e-05 x:  5.000023178253949 x1:  5.000000000053723\n",
            "Error:  -5.3723248072401475e-11 x:  5.000000000053723 x1:  5.0\n",
            "5.000000000053723   5.0   5.0\n"
          ]
        },
        {
          "output_type": "display_data",
          "data": {
            "text/plain": [
              "<Figure size 1440x360 with 2 Axes>"
            ],
            "image/png": "[encoded data removed]"
          },
          "metadata": {
            "needs_background": "light"
          }
        }
      ]
    },
    {
      "cell_type": "markdown",
      "id": "e65fbad9",
      "metadata": {
        "id": "e65fbad9"
      },
      "source": [
        "***\n",
        "### Q.3 Compare the speed of covergence of Newton-Raphson method with Bisection method for computing square root of positive numbers by plotting x_n against n, or various initializations x_0"
      ]
    },
    {
      "cell_type": "code",
      "execution_count": null,
      "id": "e3f8c8ed",
      "metadata": {
        "id": "e3f8c8ed"
      },
      "outputs": [],
      "source": [
        "# Copy-paste your Bisection Method code here\n",
        "nArray = []\n",
        "cnArray = []\n",
        "abserrArray =[]\n",
        "relerrArray= []\n",
        "ratioArray= []\n",
        "def f(x, p):\n",
        "    return x**2-p\n",
        "def mysquareroot(p, eps, root) :\n",
        "    global nArray\n",
        "    global abserrArray\n",
        "    global relerrArray \n",
        "    global ratioArray\n",
        "    global cnArray\n",
        "    a = 0\n",
        "    b = p\n",
        "    if (f(a, p)*f(b, p) > 0):\n",
        "        print('Give correct initial values')\n",
        "        return\n",
        "    n = 0\n",
        "    c_n1 = 0\n",
        "\n",
        "    \n",
        "    while(n <= math.floor(np.log2(p - 0) - np.log2(eps)) + 1):\n",
        "        c_n = (a+b)/2\n",
        "        nArray = np.append(nArray, abs(n))\n",
        "        cnArray  = np.append(cnArray, c_n)\n",
        "        abserr = abs(c_n - root)\n",
        "        print(c_n) # Value of the approximated root at each iteration.\n",
        "        \n",
        "        abserrArray = np.append(abserrArray, abserr)\n",
        "        relerr = abs(c_n - root)/root\n",
        "        relerrArray = np.append(relerrArray, relerr)\n",
        "        ratio = abs(c_n - root)/abs(c_n1 - root)\n",
        "        ratioArray = np.append(ratioArray, ratio)\n",
        "        \n",
        "        if (f(a, p)*f(c_n, p) < 0) :\n",
        "          b = c_n\n",
        "        elif (f(a, p)*f(c_n, p) > 0) :\n",
        "          a = c_n\n",
        "        else : \n",
        "          print('hi')\n",
        "          break\n",
        "        c_n1 = c_n\n",
        "        # print(ratio ,\" \", c_n)\n",
        "        n+=1\n",
        "    print(c_n)    "
      ]
    },
    {
      "cell_type": "code",
      "execution_count": null,
      "id": "c4d5af00",
      "metadata": {
        "id": "c4d5af00",
        "colab": {
          "base_uri": "https://localhost:8080/"
        },
        "outputId": "b054930d-6256-4467-f516-5d53218256e1"
      },
      "outputs": [
        {
          "output_type": "stream",
          "name": "stdout",
          "text": [
            "12.5\n",
            "6.25\n",
            "3.125\n",
            "4.6875\n",
            "5.46875\n",
            "5.078125\n",
            "4.8828125\n",
            "4.98046875\n",
            "5.029296875\n",
            "5.0048828125\n",
            "4.99267578125\n",
            "4.998779296875\n",
            "5.0018310546875\n",
            "5.00030517578125\n",
            "4.999542236328125\n",
            "4.9999237060546875\n",
            "5.000114440917969\n",
            "5.000019073486328\n",
            "4.999971389770508\n",
            "4.999995231628418\n",
            "5.000007152557373\n",
            "5.0000011920928955\n",
            "4.999998211860657\n",
            "4.999999701976776\n",
            "5.000000447034836\n",
            "5.000000074505806\n",
            "4.999999888241291\n",
            "4.9999999813735485\n",
            "5.000000027939677\n",
            "5.000000004656613\n",
            "4.999999993015081\n",
            "4.999999998835847\n",
            "5.00000000174623\n",
            "5.000000000291038\n",
            "4.9999999995634425\n",
            "4.99999999992724\n",
            "4.99999999992724\n",
            "None\n"
          ]
        }
      ],
      "source": [
        "# Run comparison between Bisection method and Newton-Raphson method here\n",
        "print(mysquareroot(25, math.pow(10,-9), math.sqrt(25)))\n"
      ]
    },
    {
      "cell_type": "code",
      "source": [
        "#plotting graph of x_n vs n for bisection and newton-raphson method\n",
        "\n",
        "\n",
        "figure, axis = plt.subplots(1, 2, figsize = (20,5))\n",
        "  \n",
        "# Bisection Method\n",
        "axis[0].plot(nArray, cnArray)\n",
        "axis[0].set_title(\"Bisection Method\")\n",
        "axis[0].set_xlabel(\"No. of Iterations\")\n",
        "axis[0].set_ylabel(\"x_n\")\n",
        "  \n",
        "# Newton-raphson Method\n",
        "axis[1].plot(itr, x_n)\n",
        "axis[1].set_title(\"Newton-Raphson Method\")\n",
        "axis[1].set_xlabel(\"No. of Iterations\")\n",
        "axis[1].set_ylabel(\"x_n\")\n",
        "  \n"
      ],
      "metadata": {
        "colab": {
          "base_uri": "https://localhost:8080/",
          "height": 367
        },
        "id": "jUSM-m9b2Fb5",
        "outputId": "985834fb-5caa-486e-d5ff-9f67cf7d947f"
      },
      "id": "jUSM-m9b2Fb5",
      "execution_count": null,
      "outputs": [
        {
          "output_type": "execute_result",
          "data": {
            "text/plain": [
              "Text(0, 0.5, 'x_n')"
            ]
          },
          "metadata": {},
          "execution_count": 60
        },
        {
          "output_type": "display_data",
          "data": {
            "text/plain": [
              "<Figure size 1440x360 with 2 Axes>"
            ],
            "image/png": "[encoded data removed]"
          },
          "metadata": {
            "needs_background": "light"
          }
        }
      ]
    },
    {
      "cell_type": "markdown",
      "id": "fae89a13",
      "metadata": {
        "id": "fae89a13"
      },
      "source": [
        "## <font color='red'> A.3: Write your comments/observation here <font>\n",
        "Here we observe that the Newton-Raphson method converges faster than the bisection method. As we had learnt in theory that the order of convergence of Newton-Raphson method is 2, i.e. quadratic, while that of bisection method is linear. This shows that our method is correctly implemented."
      ]
    },
    {
      "cell_type": "markdown",
      "id": "5989c228",
      "metadata": {
        "id": "5989c228"
      },
      "source": [
        "***\n",
        "### Q.4: Experiment with the Newton-Raphson method for finding roots of the function $f(x) = 2x^3-9x^2+12x+15$, with initial estimate around the point $x=3$. Explain the behaviour"
      ]
    },
    {
      "cell_type": "code",
      "source": [
        "# Write the Function mynewtonraphson below:\n",
        "# def mynewtonraphson(f,df,x0):\n",
        "\n",
        "\n",
        "# itr = []\n",
        "# # ratioArray1 = []\n",
        "# # ratioArray2 = []\n",
        "# x_n = []\n",
        "\n",
        "def mynewtonraphson(f,df,x0):\n",
        "    # global itr\n",
        "    # global ratioArray1\n",
        "    # global ratioArray2\n",
        "    # global x_n\n",
        "    # x0 is the initial guess\n",
        "    # f is the function\n",
        "    # df is the derivative of the function\n",
        "    # x is the solution\n",
        "    # x = x0\n",
        "    itr = []\n",
        "    x_n = []\n",
        "    iter = 0\n",
        "    itr = np.append(itr, iter)\n",
        "    x = x0\n",
        "    x_n = np.append(x_n, x)\n",
        "    error = 1 \n",
        "    while (abs(error) > 1e-10):\n",
        "        iter = iter + 1\n",
        "        itr = np.append(itr, iter)\n",
        "        # x = x - f(x)/df(x)\n",
        "        x1 = x - f(x)/df(x)\n",
        "        x_n = np.append(x_n, x1)\n",
        "        error = x1 - x\n",
        "        print(\"Error: \", error,\"x: \",  x, \"x1: \", x1)\n",
        "        \n",
        "        # if(x1 == root):\n",
        "        #   print(x,' ',root, ' ', x1)\n",
        "        #   return x1\n",
        "\n",
        "        # ratio1 = abs(x1 - root)/abs(x - root)\n",
        "        # ratio2 = abs(x1- root)/((x-root)**2)\n",
        "        # print(ratio1,' ',ratio2)\n",
        "        x = x1\n",
        "\n",
        "        # ratioArray1 = np.append(ratioArray1, ratio1)\n",
        "        # ratioArray2 = np.append(ratioArray2, ratio2)\n",
        "    # plt.gca().set_color_cycle(['red', 'green', 'blue', 'yellow'])\n",
        "    plt.plot(itr, x_n, color='r')\n",
        "    # plt.figure(figsize=(20, 5))\n",
        "    plt.xlabel('No. of iterations')\n",
        "    plt.ylabel('x_n')\n",
        "    # plt.legend(['x0 = 3.5', 'x0 = 2.5', 'x0 = 2.9', 'x0 = 3.1'], loc='valid')\n",
        "    print(\"Number of iterations: \", iter)\n",
        "    return x"
      ],
      "metadata": {
        "id": "zqkbjxfzAsSF"
      },
      "id": "zqkbjxfzAsSF",
      "execution_count": 84,
      "outputs": []
    },
    {
      "cell_type": "code",
      "execution_count": 85,
      "id": "975f77f0",
      "metadata": {
        "id": "975f77f0"
      },
      "outputs": [],
      "source": [
        "# Write functions for f(x) and df(x) below\n",
        "# Write functions for f(x) and df(x) below\n",
        "def f(x): \n",
        "  return 2*(x**3) - 9*(x**2) + 12*x + 15\n",
        "def df(x):\n",
        "  return  6*(x**2) - 18*x + 12\n",
        "\n",
        "\n"
      ]
    },
    {
      "cell_type": "code",
      "execution_count": 86,
      "id": "fcb107fb",
      "metadata": {
        "id": "fcb107fb",
        "colab": {
          "base_uri": "https://localhost:8080/",
          "height": 1000
        },
        "outputId": "4e6dcf55-fd03-4d82-f4f7-48a12c61eb07"
      },
      "outputs": [
        {
          "output_type": "stream",
          "name": "stdout",
          "text": [
            "Error:  -1.4444444444444446 x:  3.5 x1:  2.0555555555555554\n",
            "Error:  -54.02729044834373 x:  2.0555555555555554 x1:  -51.97173489278817\n",
            "Error:  17.81965767637508 x:  -51.97173489278817 x1:  -34.15207721641309\n",
            "Error:  11.876792607079715 x:  -34.15207721641309 x1:  -22.275284609333376\n",
            "Error:  7.912329618979179 x:  -22.275284609333376 x1:  -14.362954990354197\n",
            "Error:  5.264206093002418 x:  -14.362954990354197 x1:  -9.09874889735178\n",
            "Error:  3.488159853023621 x:  -9.09874889735178 x1:  -5.610589044328158\n",
            "Error:  2.282041783145135 x:  -5.610589044328158 x1:  -3.328547261183023\n",
            "Error:  1.4337177495082836 x:  -3.328547261183023 x1:  -1.8948295116747396\n",
            "Error:  0.7931752660033928 x:  -1.8948295116747396 x1:  -1.1016542456713467\n",
            "Error:  0.302126448628254 x:  -1.1016542456713467 x1:  -0.7995277970430927\n",
            "Error:  0.04531462219884641 x:  -0.7995277970430927 x1:  -0.7542131748442463\n",
            "Error:  0.0009708973520161646 x:  -0.7542131748442463 x1:  -0.7532422774922302\n",
            "Error:  4.4014208588905035e-07 x:  -0.7532422774922302 x1:  -0.7532418373501443\n",
            "Error:  9.048317650695026e-14 x:  -0.7532418373501443 x1:  -0.7532418373500538\n",
            "Number of iterations:  15\n",
            "Error:  -4.444444444444445 x:  2.5 x1:  -1.9444444444444446\n",
            "Error:  0.8188895778584859 x:  -1.9444444444444446 x1:  -1.1255548665859587\n",
            "Error:  0.32012042826099396 x:  -1.1255548665859587 x1:  -0.8054344383249648\n",
            "Error:  0.050962051557631005 x:  -0.8054344383249648 x1:  -0.7544723867673337\n",
            "Error:  0.0012298431337894877 x:  -0.7544723867673337 x1:  -0.7532425436335443\n",
            "Error:  7.06283257656537e-07 x:  -0.7532425436335443 x1:  -0.7532418373502866\n",
            "Error:  2.3281376826389533e-13 x:  -0.7532418373502866 x1:  -0.7532418373500538\n",
            "Number of iterations:  7\n",
            "Error:  -2.2307992202729032 x:  2.9 x1:  0.6692007797270967\n",
            "Error:  -7.420150217218911 x:  0.6692007797270967 x1:  -6.750949437491814\n",
            "Error:  2.682127134381987 x:  -6.750949437491814 x1:  -4.068822303109827\n",
            "Error:  1.7204517656543774 x:  -4.068822303109827 x1:  -2.3483705374554495\n",
            "Error:  1.01552322142531 x:  -2.3483705374554495 x1:  -1.3328473160301395\n",
            "Error:  0.465551921628683 x:  -1.3328473160301395 x1:  -0.8672953944014565\n",
            "Error:  0.10839437786684791 x:  -0.8672953944014565 x1:  -0.7589010165346086\n",
            "Error:  0.005644283387594373 x:  -0.7589010165346086 x1:  -0.7532567331470142\n",
            "Error:  1.4895693387750875e-05 x:  -0.7532567331470142 x1:  -0.7532418374536265\n",
            "Error:  1.0357270596728085e-10 x:  -0.7532418374536265 x1:  -0.7532418373500538\n",
            "Error:  0.0 x:  -0.7532418373500538 x1:  -0.7532418373500538\n",
            "Number of iterations:  11\n",
            "Error:  -1.824819624819624 x:  3.1 x1:  1.275180375180376\n",
            "Error:  16.55710983230743 x:  1.275180375180376 x1:  17.832290207487805\n",
            "Error:  -5.446077839417484 x:  17.832290207487805 x1:  12.386212368070321\n",
            "Error:  -3.6408771134598013 x:  12.386212368070321 x1:  8.74533525461052\n",
            "Error:  -2.4542054198319674 x:  8.74533525461052 x1:  6.291129834778553\n",
            "Error:  -1.7050144937888705 x:  6.291129834778553 x1:  4.586115340989682\n",
            "Error:  -1.3236819969697322 x:  4.586115340989682 x1:  3.26243334401995\n",
            "Error:  -1.6225211337793273 x:  3.26243334401995 x1:  1.6399122102406227\n",
            "Error:  13.95656221338122 x:  1.6399122102406227 x1:  15.596474423621842\n",
            "Error:  -4.703362674010128 x:  15.596474423621842 x1:  10.893111749611714\n",
            "Error:  -3.1501833157548367 x:  10.893111749611714 x1:  7.742928433856878\n",
            "Error:  -2.138033862292617 x:  7.742928433856878 x1:  5.604894571564261\n",
            "Error:  -1.5228660375019256 x:  5.604894571564261 x1:  4.082028534062335\n",
            "Error:  -1.300089991526126 x:  4.082028534062335 x1:  2.781938542536209\n",
            "Error:  -2.606455044249479 x:  2.781938542536209 x1:  0.17548349828672993\n",
            "Error:  -1.865648205584725 x:  0.17548349828672993 x1:  -1.690164707297995\n",
            "Error:  0.682443675606347 x:  -1.690164707297995 x1:  -1.007721031691648\n",
            "Error:  0.2284956633053894 x:  -1.007721031691648 x1:  -0.7792253683862587\n",
            "Error:  0.025673521255805354 x:  -0.7792253683862587 x1:  -0.7535518471304533\n",
            "Error:  0.00030996492790924535 x:  -0.7535518471304533 x1:  -0.7532418822025441\n",
            "Error:  4.485248938923547e-08 x:  -0.7532418822025441 x1:  -0.7532418373500547\n",
            "Error:  8.881784197001252e-16 x:  -0.7532418373500547 x1:  -0.7532418373500538\n",
            "Number of iterations:  22\n"
          ]
        },
        {
          "output_type": "execute_result",
          "data": {
            "text/plain": [
              "-0.7532418373500538"
            ]
          },
          "metadata": {},
          "execution_count": 86
        },
        {
          "output_type": "display_data",
          "data": {
            "text/plain": [
              "<Figure size 432x288 with 1 Axes>"
            ],
            "image/png": "[encoded data removed]"
          },
          "metadata": {
            "needs_background": "light"
          }
        }
      ],
      "source": [
        "# Run and plot estimates with different initializations around x=3 here\n",
        "mynewtonraphson(f,df,3.5)\n",
        "mynewtonraphson(f,df,2.5)\n",
        "mynewtonraphson(f,df,2.9) \n",
        "mynewtonraphson(f,df,3.1)\n",
        "# mynewtonraphson(f,df,3)"
      ]
    },
    {
      "cell_type": "markdown",
      "id": "5993249c",
      "metadata": {
        "id": "5993249c"
      },
      "source": [
        "## <font color='red'> A.4: Write your comments/observation here  <font>\n",
        "As we can see can see that at values of $x_0$ other than 3 the Newton-Raphson method converges to a root but whereas in the case of $x_0 = 3$ after first iteration $x_1$ becomes equal to 1 and $df(1) = 0$. As $f(x)$ is divided by zero we run into an error here. Graphically speaking, the graph of $f(x)$ has a local maxima at $x=1$."
      ]
    }
  ],
  "metadata": {
    "kernelspec": {
      "display_name": "Python 3",
      "language": "python",
      "name": "python3"
    },
    "language_info": {
      "codemirror_mode": {
        "name": "ipython",
        "version": 3
      },
      "file_extension": ".py",
      "mimetype": "text/x-python",
      "name": "python",
      "nbconvert_exporter": "python",
      "pygments_lexer": "ipython3",
      "version": "3.7.6"
    },
    "varInspector": {
      "cols": {
        "lenName": 16,
        "lenType": 16,
        "lenVar": 40
      },
      "kernels_config": {
        "python": {
          "delete_cmd_postfix": "",
          "delete_cmd_prefix": "del ",
          "library": "var_list.py",
          "varRefreshCmd": "print(var_dic_list())"
        },
        "r": {
          "delete_cmd_postfix": ") ",
          "delete_cmd_prefix": "rm(",
          "library": "var_list.r",
          "varRefreshCmd": "cat(var_dic_list()) "
        }
      },
      "types_to_exclude": [
        "module",
        "function",
        "builtin_function_or_method",
        "instance",
        "_Feature"
      ],
      "window_display": false
    },
    "vscode": {
      "interpreter": {
        "hash": "c4e677bd2fa28ed09d759069727da337a6d89193986d5f7d2179a74a78bebb11"
      }
    },
    "colab": {
      "provenance": []
    }
  },
  "nbformat": 4,
  "nbformat_minor": 5
}